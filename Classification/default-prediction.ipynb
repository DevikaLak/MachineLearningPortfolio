{
 "cells": [
  {
   "cell_type": "markdown",
   "id": "c13b9899",
   "metadata": {},
   "source": [
    "# Steps to perform (Project level)\n",
    "\n",
    "1) Fetch the data from Kaggle, analyze it with statistical descriptions and visualizations (pandas profiler), time series analysis, perform dimensionality reduction, clean it (impute missing data), subsample data and handle class imbalance.\n",
    "2) Load data to S3 and Create train, validation and test dataset on AWS Sagemaker (CV)\n",
    "3) Decide upon the best metric\n",
    "4) Use Autoglunon for identifying the best model\n",
    "5) Perform hyperparameter tuning (regularization, ensure overfitting)\n",
    "6) Train the model\n",
    "7) Test the model\n",
    "8) Deploy the model\n",
    "9) Create lambda to interact with model\n",
    "Bonus:\n",
    "10) Attempt inference with batch processor\n",
    "11) Try to deploy 2 different models with bagging and boosting\n",
    "12) Test the results on Kaggle\n",
    "\n",
    "Surplus:\n",
    "Python documentation and comments convention"
   ]
  }
 ],
 "metadata": {
  "kernelspec": {
   "display_name": "Python 3 (ipykernel)",
   "language": "python",
   "name": "python3"
  },
  "language_info": {
   "codemirror_mode": {
    "name": "ipython",
    "version": 3
   },
   "file_extension": ".py",
   "mimetype": "text/x-python",
   "name": "python",
   "nbconvert_exporter": "python",
   "pygments_lexer": "ipython3",
   "version": "3.10.5"
  }
 },
 "nbformat": 4,
 "nbformat_minor": 5
}
